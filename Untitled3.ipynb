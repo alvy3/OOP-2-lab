{
  "nbformat": 4,
  "nbformat_minor": 0,
  "metadata": {
    "colab": {
      "name": "Untitled3.ipynb",
      "provenance": [],
      "authorship_tag": "ABX9TyPbhgXaSK5TpxroB8BCb64N",
      "include_colab_link": true
    },
    "kernelspec": {
      "name": "python3",
      "display_name": "Python 3"
    }
  },
  "cells": [
    {
      "cell_type": "markdown",
      "metadata": {
        "id": "view-in-github",
        "colab_type": "text"
      },
      "source": [
        "<a href=\"https://colab.research.google.com/github/alvy3/OOP-2-lab/blob/master/Untitled3.ipynb\" target=\"_parent\"><img src=\"https://colab.research.google.com/assets/colab-badge.svg\" alt=\"Open In Colab\"/></a>"
      ]
    },
    {
      "cell_type": "markdown",
      "metadata": {
        "id": "1M7nWjmAvuQ4"
      },
      "source": [
        "Creating list"
      ]
    },
    {
      "cell_type": "code",
      "metadata": {
        "id": "WBywRppzv2Eb",
        "outputId": "bc29bd52-35a6-4b62-cc7d-43f40a85b679",
        "colab": {
          "base_uri": "https://localhost:8080/"
        }
      },
      "source": [
        "m1=[1,2,3,32,2.23,43.23,\"python\",[2,32,3]]\n",
        "print(m1)\n",
        "m2=[]\n",
        "print(m2)\n",
        "m3=list()\n",
        "print(m3)"
      ],
      "execution_count": 4,
      "outputs": [
        {
          "output_type": "stream",
          "text": [
            "[1, 2, 3, 32, 2.23, 43.23, 'python', [2, 32, 3]]\n",
            "[]\n",
            "[]\n"
          ],
          "name": "stdout"
        }
      ]
    },
    {
      "cell_type": "markdown",
      "metadata": {
        "id": "Z2iIHaRSwIwL"
      },
      "source": [
        "\n",
        "Iterating list"
      ]
    },
    {
      "cell_type": "code",
      "metadata": {
        "id": "sEfdPs4KwJpM",
        "outputId": "f6343a0a-d972-43d6-b21d-615ab8f6e2c1",
        "colab": {
          "base_uri": "https://localhost:8080/"
        }
      },
      "source": [
        "\n",
        "m=[1,2,3,32,2.23,43.23,\"python\",[2,32,3]]\n",
        "for i in m:\n",
        "    print(i,end=' ')\n",
        "print('')"
      ],
      "execution_count": 2,
      "outputs": [
        {
          "output_type": "stream",
          "text": [
            "1 2 3 32 2.23 43.23 python [2, 32, 3] \n"
          ],
          "name": "stdout"
        }
      ]
    },
    {
      "cell_type": "markdown",
      "metadata": {
        "id": "SrFqVh-pwhXb"
      },
      "source": [
        "\n",
        "Iterating list"
      ]
    },
    {
      "cell_type": "code",
      "metadata": {
        "id": "eN5QxALkwl83",
        "outputId": "fc43a81f-0e49-4142-e166-82208a2d3573",
        "colab": {
          "base_uri": "https://localhost:8080/"
        }
      },
      "source": [
        "m=[1,2,3,32,2.23,43.23,\"python\",[2,32,3]]\n",
        "print(m[2])\n",
        "print(m[6])\n",
        "print(m[-2])"
      ],
      "execution_count": 3,
      "outputs": [
        {
          "output_type": "stream",
          "text": [
            "3\n",
            "python\n",
            "python\n"
          ],
          "name": "stdout"
        }
      ]
    },
    {
      "cell_type": "markdown",
      "metadata": {
        "id": "chfJ0PmMw0BL"
      },
      "source": [
        "\n",
        "List operations"
      ]
    },
    {
      "cell_type": "code",
      "metadata": {
        "id": "Whf04BG7w1Kc",
        "outputId": "0a49ee91-cbc9-47cc-8450-516f70872448",
        "colab": {
          "base_uri": "https://localhost:8080/"
        }
      },
      "source": [
        "m1=[1,2,3,32,2.23,43.23,\"python\",[2,32,3]]\n",
        "\n",
        "print(len(m1))                \n",
        "\n",
        "m1.append([12,2,12,2])        \n",
        "print(m1)\n",
        "\n",
        "m1.insert(2,\"pandas\")         \n",
        "print(m1)\n",
        "\n",
        "m1.remove(3)                 \n",
        "print(m1)\n",
        "\n",
        "print(m1.index(\"python\"))     \n",
        "\n",
        "print(m1.count('pandas'))     \n",
        "\n",
        "print(m1.reverse())           \n",
        "\n",
        "m2=m1.copy()                \n",
        "print(m2)\n",
        "\n",
        "m1.clear()                    \n",
        "print(m1)"
      ],
      "execution_count": 5,
      "outputs": [
        {
          "output_type": "stream",
          "text": [
            "8\n",
            "[1, 2, 3, 32, 2.23, 43.23, 'python', [2, 32, 3], [12, 2, 12, 2]]\n",
            "[1, 2, 'pandas', 3, 32, 2.23, 43.23, 'python', [2, 32, 3], [12, 2, 12, 2]]\n",
            "[1, 2, 'pandas', 32, 2.23, 43.23, 'python', [2, 32, 3], [12, 2, 12, 2]]\n",
            "6\n",
            "1\n",
            "None\n",
            "[[12, 2, 12, 2], [2, 32, 3], 'python', 43.23, 2.23, 32, 'pandas', 2, 1]\n",
            "[]\n"
          ],
          "name": "stdout"
        }
      ]
    },
    {
      "cell_type": "markdown",
      "metadata": {
        "id": "YZIlFrE4w8hk"
      },
      "source": [
        "lsit slicing"
      ]
    },
    {
      "cell_type": "code",
      "metadata": {
        "id": "WYXIdEZJw9VO",
        "outputId": "c017b8a3-680a-4795-983e-da166bcfcb0c",
        "colab": {
          "base_uri": "https://localhost:8080/"
        }
      },
      "source": [
        "\n",
        "m=[1,2,3,32,2.23,43.23,\"python\",[2,32,3]]\n",
        "\n",
        "print(m[2:7])\n",
        "print(m[2:])\n",
        "print(m[:5])\n",
        "print(m[:])"
      ],
      "execution_count": 6,
      "outputs": [
        {
          "output_type": "stream",
          "text": [
            "[3, 32, 2.23, 43.23, 'python']\n",
            "[3, 32, 2.23, 43.23, 'python', [2, 32, 3]]\n",
            "[1, 2, 3, 32, 2.23]\n",
            "[1, 2, 3, 32, 2.23, 43.23, 'python', [2, 32, 3]]\n"
          ],
          "name": "stdout"
        }
      ]
    },
    {
      "cell_type": "markdown",
      "metadata": {
        "id": "FMbU9QBExAIM"
      },
      "source": [
        "\n",
        "list sorting"
      ]
    },
    {
      "cell_type": "code",
      "metadata": {
        "id": "f6XaY4zwxCsU",
        "outputId": "080dfdc1-33c9-4222-d71f-505f94376d8f",
        "colab": {
          "base_uri": "https://localhost:8080/"
        }
      },
      "source": [
        "\n",
        "lst2=[1,2,4,2,4,2,4,2,5,6,7,4]\n",
        "\n",
        "lst3=sorted(lst2)\n",
        "print(lst3)\n",
        "print(lst2)\n",
        "lst2.sort()\n",
        "print(lst2)"
      ],
      "execution_count": 7,
      "outputs": [
        {
          "output_type": "stream",
          "text": [
            "[1, 2, 2, 2, 2, 4, 4, 4, 4, 5, 6, 7]\n",
            "[1, 2, 4, 2, 4, 2, 4, 2, 5, 6, 7, 4]\n",
            "[1, 2, 2, 2, 2, 4, 4, 4, 4, 5, 6, 7]\n"
          ],
          "name": "stdout"
        }
      ]
    },
    {
      "cell_type": "markdown",
      "metadata": {
        "id": "vprQ0q7ixIvk"
      },
      "source": [
        "\n",
        "creating tuple"
      ]
    },
    {
      "cell_type": "code",
      "metadata": {
        "id": "USotOJYVxJtz",
        "outputId": "541c4ab6-5d4f-4a5a-9a2b-bc43609be082",
        "colab": {
          "base_uri": "https://localhost:8080/"
        }
      },
      "source": [
        "m=(1,2,3,32,2.23,43.23,\"python\",[2,32,3])\n",
        "print(m)\n",
        "m1=()\n",
        "print(m1)\n",
        "m2=tuple()\n",
        "print(m2)"
      ],
      "execution_count": 8,
      "outputs": [
        {
          "output_type": "stream",
          "text": [
            "(1, 2, 3, 32, 2.23, 43.23, 'python', [2, 32, 3])\n",
            "()\n",
            "()\n"
          ],
          "name": "stdout"
        }
      ]
    },
    {
      "cell_type": "markdown",
      "metadata": {
        "id": "AwtlsCHIxO5U"
      },
      "source": [
        "\n",
        "Iterating tuple"
      ]
    },
    {
      "cell_type": "code",
      "metadata": {
        "id": "PJRS0MStxQN1",
        "outputId": "4120c37b-7efa-44eb-8210-7973a803439c",
        "colab": {
          "base_uri": "https://localhost:8080/"
        }
      },
      "source": [
        "m0=(1,2,3,32,2.23,43.23,\"python\",[2,32,3])\n",
        "print(m0[2])\n",
        "print(m0[6])\n",
        "print(m[-2])"
      ],
      "execution_count": 9,
      "outputs": [
        {
          "output_type": "stream",
          "text": [
            "3\n",
            "python\n",
            "python\n"
          ],
          "name": "stdout"
        }
      ]
    },
    {
      "cell_type": "markdown",
      "metadata": {
        "id": "joECiItVxZr8"
      },
      "source": [
        "Inserting into tuple"
      ]
    },
    {
      "cell_type": "code",
      "metadata": {
        "id": "wdXR2JopxbBs",
        "outputId": "0a9d1fe6-2bb3-49f3-88d4-429cd0e10a50",
        "colab": {
          "base_uri": "https://localhost:8080/"
        }
      },
      "source": [
        "m0=(1,2,3,32,2.23,43.23,\"python\",[2,32,3])\n",
        "m0+=(\"pandas\",232,3,232,3)\n",
        "print(m0)\n"
      ],
      "execution_count": 10,
      "outputs": [
        {
          "output_type": "stream",
          "text": [
            "(1, 2, 3, 32, 2.23, 43.23, 'python', [2, 32, 3], 'pandas', 232, 3, 232, 3)\n"
          ],
          "name": "stdout"
        }
      ]
    },
    {
      "cell_type": "markdown",
      "metadata": {
        "id": "S6vVZZ5SxkoU"
      },
      "source": [
        "\n",
        "unpacking sequences"
      ]
    },
    {
      "cell_type": "code",
      "metadata": {
        "id": "NkduRVjIxl8D",
        "outputId": "5de05184-49b4-41fd-b069-86dd1a105720",
        "colab": {
          "base_uri": "https://localhost:8080/"
        }
      },
      "source": [
        "\n",
        "m=[2,3,423,43]\n",
        "a,b,c,d=m\n",
        "print(a)\n",
        "print(b)\n",
        "print(c)\n",
        "print(d)"
      ],
      "execution_count": 12,
      "outputs": [
        {
          "output_type": "stream",
          "text": [
            "2\n",
            "3\n",
            "423\n",
            "43\n"
          ],
          "name": "stdout"
        }
      ]
    },
    {
      "cell_type": "markdown",
      "metadata": {
        "id": "nWKZu1dBxrzx"
      },
      "source": [
        "\n",
        "unpacking sequences"
      ]
    }
  ]
}