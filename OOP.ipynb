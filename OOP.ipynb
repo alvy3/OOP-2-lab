{
  "nbformat": 4,
  "nbformat_minor": 0,
  "metadata": {
    "colab": {
      "name": "Untitled1.ipynb",
      "provenance": [],
      "authorship_tag": "ABX9TyMlN36fy6vWuLld9Mzzl5dS",
      "include_colab_link": true
    },
    "kernelspec": {
      "name": "python3",
      "display_name": "Python 3"
    }
  },
  "cells": [
    {
      "cell_type": "markdown",
      "metadata": {
        "id": "view-in-github",
        "colab_type": "text"
      },
      "source": [
        "<a href=\"https://colab.research.google.com/github/alvy3/OOP-2-lab/blob/master/OOP.ipynb\" target=\"_parent\"><img src=\"https://colab.research.google.com/assets/colab-badge.svg\" alt=\"Open In Colab\"/></a>"
      ]
    },
    {
      "cell_type": "markdown",
      "metadata": {
        "id": "AxoRo29oXrVM"
      },
      "source": [
        "**First python program**"
      ]
    },
    {
      "cell_type": "code",
      "metadata": {
        "id": "4i5JRjgkYZtv",
        "outputId": "cf6c5c4b-074b-4bd6-ff6d-53e1e4aadc0b",
        "colab": {
          "base_uri": "https://localhost:8080/",
          "height": 34
        }
      },
      "source": [
        "print(\"Alvy\")"
      ],
      "execution_count": 2,
      "outputs": [
        {
          "output_type": "stream",
          "text": [
            "Alvy\n"
          ],
          "name": "stdout"
        }
      ]
    },
    {
      "cell_type": "markdown",
      "metadata": {
        "id": "dOYZpfvlY4kI"
      },
      "source": [
        "\n",
        "**Variables and Assignment statements**"
      ]
    },
    {
      "cell_type": "code",
      "metadata": {
        "id": "ftXkSeA7ZFHx",
        "outputId": "1d556d17-db61-49af-8f4e-2a3a67461730",
        "colab": {
          "base_uri": "https://localhost:8080/",
          "height": 34
        }
      },
      "source": [
        "a=5\n",
        "b=8\n",
        "print(a+b)"
      ],
      "execution_count": 4,
      "outputs": [
        {
          "output_type": "stream",
          "text": [
            "13\n"
          ],
          "name": "stdout"
        }
      ]
    },
    {
      "cell_type": "code",
      "metadata": {
        "id": "BNEBexz0bLEM",
        "outputId": "9ce3f29c-4210-476c-b484-9be170ce549b",
        "colab": {
          "base_uri": "https://localhost:8080/",
          "height": 34
        }
      },
      "source": [
        "name=\"Md\"\n",
        "name2=\"Alvy\"\n",
        "print(name,name2)"
      ],
      "execution_count": 6,
      "outputs": [
        {
          "output_type": "stream",
          "text": [
            "Md Alvy\n"
          ],
          "name": "stdout"
        }
      ]
    },
    {
      "cell_type": "markdown",
      "metadata": {
        "id": "PW58JFRQbiI5"
      },
      "source": [
        "**Type**"
      ]
    },
    {
      "cell_type": "code",
      "metadata": {
        "id": "S0itgt9ybld5",
        "outputId": "20e6082e-3a0f-47e1-b844-cb33eb3096f2",
        "colab": {
          "base_uri": "https://localhost:8080/",
          "height": 34
        }
      },
      "source": [
        "a=20\n",
        "type(a)"
      ],
      "execution_count": 7,
      "outputs": [
        {
          "output_type": "execute_result",
          "data": {
            "text/plain": [
              "int"
            ]
          },
          "metadata": {
            "tags": []
          },
          "execution_count": 7
        }
      ]
    },
    {
      "cell_type": "code",
      "metadata": {
        "id": "tTFEqaC_b0Lx",
        "outputId": "ee3381cf-731b-409d-cbc5-c3a3ffe8aa3a",
        "colab": {
          "base_uri": "https://localhost:8080/",
          "height": 34
        }
      },
      "source": [
        "type(3.1416)"
      ],
      "execution_count": 8,
      "outputs": [
        {
          "output_type": "execute_result",
          "data": {
            "text/plain": [
              "float"
            ]
          },
          "metadata": {
            "tags": []
          },
          "execution_count": 8
        }
      ]
    },
    {
      "cell_type": "code",
      "metadata": {
        "id": "kjEGOfZMb5o6",
        "outputId": "1842f473-928d-4dd2-d03d-8f437b51ddf3",
        "colab": {
          "base_uri": "https://localhost:8080/",
          "height": 34
        }
      },
      "source": [
        "type(name)"
      ],
      "execution_count": 9,
      "outputs": [
        {
          "output_type": "execute_result",
          "data": {
            "text/plain": [
              "str"
            ]
          },
          "metadata": {
            "tags": []
          },
          "execution_count": 9
        }
      ]
    },
    {
      "cell_type": "markdown",
      "metadata": {
        "id": "nHsMAJcCb-JQ"
      },
      "source": [
        "**Arithmetic operators**"
      ]
    },
    {
      "cell_type": "code",
      "metadata": {
        "id": "SMraS1JlcBZD",
        "outputId": "8058f62b-deff-470b-d854-15549d943952",
        "colab": {
          "base_uri": "https://localhost:8080/",
          "height": 34
        }
      },
      "source": [
        "sum=5+5\n",
        "print(sum)"
      ],
      "execution_count": 10,
      "outputs": [
        {
          "output_type": "stream",
          "text": [
            "10\n"
          ],
          "name": "stdout"
        }
      ]
    },
    {
      "cell_type": "code",
      "metadata": {
        "id": "H9oRr_8qcL0a",
        "outputId": "704e6233-dabf-4caf-c8d8-08c1082c047f",
        "colab": {
          "base_uri": "https://localhost:8080/",
          "height": 34
        }
      },
      "source": [
        "sub=10-20\n",
        "print(sub)"
      ],
      "execution_count": 11,
      "outputs": [
        {
          "output_type": "stream",
          "text": [
            "-10\n"
          ],
          "name": "stdout"
        }
      ]
    },
    {
      "cell_type": "code",
      "metadata": {
        "id": "9lrKt4sscQqS",
        "outputId": "46884698-3b92-4a80-cf45-c7005e585ac7",
        "colab": {
          "base_uri": "https://localhost:8080/",
          "height": 34
        }
      },
      "source": [
        "multi=5*5\n",
        "print(multi)"
      ],
      "execution_count": 12,
      "outputs": [
        {
          "output_type": "stream",
          "text": [
            "25\n"
          ],
          "name": "stdout"
        }
      ]
    },
    {
      "cell_type": "code",
      "metadata": {
        "id": "i5feJqJMcVf7",
        "outputId": "363eb255-e430-462e-ee8a-839f130ab1d1",
        "colab": {
          "base_uri": "https://localhost:8080/",
          "height": 34
        }
      },
      "source": [
        "exponentiation=10**2\n",
        "print(exponentiation)"
      ],
      "execution_count": 14,
      "outputs": [
        {
          "output_type": "stream",
          "text": [
            "100\n"
          ],
          "name": "stdout"
        }
      ]
    },
    {
      "cell_type": "markdown",
      "metadata": {
        "id": "LjLA1b0ucgFa"
      },
      "source": [
        "**True division vs Floor divition**"
      ]
    },
    {
      "cell_type": "code",
      "metadata": {
        "id": "JnrTfjo0clW6",
        "outputId": "ed836c77-8bf4-4db0-d8e5-36ca69315ac0",
        "colab": {
          "base_uri": "https://localhost:8080/",
          "height": 34
        }
      },
      "source": [
        "True_division=10/8\n",
        "print(True_division)"
      ],
      "execution_count": 16,
      "outputs": [
        {
          "output_type": "stream",
          "text": [
            "1.25\n"
          ],
          "name": "stdout"
        }
      ]
    },
    {
      "cell_type": "code",
      "metadata": {
        "id": "bXKLYwVNcxdx",
        "outputId": "33b2bf10-58dd-448a-93f7-169a71c77c36",
        "colab": {
          "base_uri": "https://localhost:8080/",
          "height": 34
        }
      },
      "source": [
        "Floor_division=10//8\n",
        "print(Floor_division)"
      ],
      "execution_count": 17,
      "outputs": [
        {
          "output_type": "stream",
          "text": [
            "1\n"
          ],
          "name": "stdout"
        }
      ]
    },
    {
      "cell_type": "code",
      "metadata": {
        "id": "ZmOkeUkyc4Pq",
        "outputId": "56ae44da-b978-4f58-8648-353499ca4e82",
        "colab": {
          "base_uri": "https://localhost:8080/",
          "height": 34
        }
      },
      "source": [
        "remainder=10%5\n",
        "print(remainder)"
      ],
      "execution_count": 19,
      "outputs": [
        {
          "output_type": "stream",
          "text": [
            "0\n"
          ],
          "name": "stdout"
        }
      ]
    },
    {
      "cell_type": "markdown",
      "metadata": {
        "id": "JAwA8xl-dBRy"
      },
      "source": [
        "**IF STATEMENT**"
      ]
    },
    {
      "cell_type": "code",
      "metadata": {
        "id": "Uoi-uYYkdEpK",
        "outputId": "555e08b4-5641-4bd1-f691-a9ed13df1d0f",
        "colab": {
          "base_uri": "https://localhost:8080/",
          "height": 34
        }
      },
      "source": [
        "mark=75\n",
        "if mark>=33:\n",
        "  print(\"passed\")"
      ],
      "execution_count": 20,
      "outputs": [
        {
          "output_type": "stream",
          "text": [
            "passed\n"
          ],
          "name": "stdout"
        }
      ]
    },
    {
      "cell_type": "markdown",
      "metadata": {
        "id": "HpIxSNwueOO6"
      },
      "source": [
        "**IF ELSE STATEMENT**"
      ]
    },
    {
      "cell_type": "code",
      "metadata": {
        "id": "NZHHKZGveSHM",
        "outputId": "d00ad596-004d-411d-b64b-08484ae63cc9",
        "colab": {
          "base_uri": "https://localhost:8080/",
          "height": 51
        }
      },
      "source": [
        "mark=int(input(\"Enter the mark: \"))\n",
        "if mark>=33:\n",
        "  print(\"passed\")\n",
        "else:\n",
        "   print(\"Fail\")"
      ],
      "execution_count": 23,
      "outputs": [
        {
          "output_type": "stream",
          "text": [
            "Enter the mark: 90\n",
            "passed\n"
          ],
          "name": "stdout"
        }
      ]
    },
    {
      "cell_type": "markdown",
      "metadata": {
        "id": "1Pph6UfLfIMC"
      },
      "source": [
        "**CONDITIONAL EXPRESION**"
      ]
    },
    {
      "cell_type": "code",
      "metadata": {
        "id": "Tsl6QAjxfNBc",
        "outputId": "32210869-f4d4-416a-b177-6e0b0ac3797c",
        "colab": {
          "base_uri": "https://localhost:8080/",
          "height": 34
        }
      },
      "source": [
        "\n",
        "result=('passed' if mark>=33 else 'Failed')\n",
        "print(result)"
      ],
      "execution_count": 26,
      "outputs": [
        {
          "output_type": "stream",
          "text": [
            "passed\n"
          ],
          "name": "stdout"
        }
      ]
    },
    {
      "cell_type": "markdown",
      "metadata": {
        "id": "0A1viOdDfbiD"
      },
      "source": [
        "**IF...ELIF..ELSE STATEMENT**"
      ]
    },
    {
      "cell_type": "code",
      "metadata": {
        "id": "ShX6ruvzfgxE",
        "outputId": "329ea09b-f3e8-420f-ff15-732ca81bd7c4",
        "colab": {
          "base_uri": "https://localhost:8080/",
          "height": 51
        }
      },
      "source": [
        "mark=int(input(\"Enter the marks: \"))\n",
        "if mark>=80:\n",
        "   print('A+')\n",
        "elif mark>=75:\n",
        "  print('A')\n",
        "elif mark>=70:\n",
        "  print('A-')\n",
        "elif mark>=65:\n",
        "   print('B+')\n",
        "elif mark>=60:\n",
        "  print('B')\n",
        "elif mark>=55:\n",
        "  print('C+')\n",
        "elif mark>=50:\n",
        "  print('C')\n",
        "elif mark>=45:\n",
        "  print('D+')\n",
        "elif mark>=40:\n",
        "  print('D')\n",
        "else:\n",
        "  print('F')"
      ],
      "execution_count": 27,
      "outputs": [
        {
          "output_type": "stream",
          "text": [
            "Enter the marks: 70\n",
            "A-\n"
          ],
          "name": "stdout"
        }
      ]
    },
    {
      "cell_type": "markdown",
      "metadata": {
        "id": "q40QmE8Hfvpq"
      },
      "source": [
        "**WHILE STATEMENT**"
      ]
    },
    {
      "cell_type": "code",
      "metadata": {
        "id": "VcOtSWF_fxy6",
        "outputId": "8ca69269-223d-430c-bd98-e80c78135ab1",
        "colab": {
          "base_uri": "https://localhost:8080/",
          "height": 51
        }
      },
      "source": [
        "num=int(input(\"Enter the number: \"))\n",
        "while (num<=10):\n",
        "  print(num, end=\" \")\n",
        "  num+=1"
      ],
      "execution_count": 29,
      "outputs": [
        {
          "output_type": "stream",
          "text": [
            "Enter the number: 4\n",
            "4 5 6 7 8 9 10 "
          ],
          "name": "stdout"
        }
      ]
    },
    {
      "cell_type": "markdown",
      "metadata": {
        "id": "nmf6pWFyf_Xy"
      },
      "source": [
        "**while statement to find the first power of 3 larger than 50:**"
      ]
    },
    {
      "cell_type": "code",
      "metadata": {
        "id": "Y48iuUoQgDXz",
        "outputId": "6c41be94-d55d-4148-f35f-7385b6aa5073",
        "colab": {
          "base_uri": "https://localhost:8080/",
          "height": 51
        }
      },
      "source": [
        "product =int(input(\"Enter the number: \"))\n",
        "\n",
        "while product<=50:\n",
        "  product = product*3\n",
        "print(product)"
      ],
      "execution_count": 30,
      "outputs": [
        {
          "output_type": "stream",
          "text": [
            "Enter the number: 30\n",
            "90\n"
          ],
          "name": "stdout"
        }
      ]
    },
    {
      "cell_type": "markdown",
      "metadata": {
        "id": "LzQwhG8Bgcv8"
      },
      "source": [
        "**For statement**"
      ]
    },
    {
      "cell_type": "code",
      "metadata": {
        "id": "lU1ZeXTaghls",
        "outputId": "aabff7b9-8a57-4e95-81f2-348a338633c6",
        "colab": {
          "base_uri": "https://localhost:8080/",
          "height": 34
        }
      },
      "source": [
        "for character in \"Alvy\":\n",
        "  print(character, end=\" \")"
      ],
      "execution_count": 32,
      "outputs": [
        {
          "output_type": "stream",
          "text": [
            "A l v y "
          ],
          "name": "stdout"
        }
      ]
    },
    {
      "cell_type": "code",
      "metadata": {
        "id": "1Ya_of3DhIGM"
      },
      "source": [
        ""
      ],
      "execution_count": null,
      "outputs": []
    },
    {
      "cell_type": "markdown",
      "metadata": {
        "id": "leyP7z6ChNRD"
      },
      "source": [
        "**Built in Range Function**"
      ]
    },
    {
      "cell_type": "code",
      "metadata": {
        "id": "0qk53VvihSR3",
        "outputId": "6910c0cc-dbc8-416e-e501-c5b2ca49d00b",
        "colab": {
          "base_uri": "https://localhost:8080/",
          "height": 34
        }
      },
      "source": [
        "for counter in range(10):\n",
        "  print(counter, end=\" \")\n"
      ],
      "execution_count": 36,
      "outputs": [
        {
          "output_type": "stream",
          "text": [
            "0 1 2 3 4 5 6 7 8 9 "
          ],
          "name": "stdout"
        }
      ]
    },
    {
      "cell_type": "code",
      "metadata": {
        "id": "VL-BJhBjhZr9",
        "outputId": "0fb1ce53-6ce5-48a1-da7a-daedc1d1f199",
        "colab": {
          "base_uri": "https://localhost:8080/",
          "height": 119
        }
      },
      "source": [
        "n=int(input(\"Enter the number: \"))\n",
        "for left in range(n):\n",
        "    for right in range(left,n):\n",
        "        print(\"[\"+str(left)+\"|\"+str(right)+\"]\", end =\" \")\n",
        "    print()"
      ],
      "execution_count": 37,
      "outputs": [
        {
          "output_type": "stream",
          "text": [
            "Enter the number: 5\n",
            "[0|0] [0|1] [0|2] [0|3] [0|4] \n",
            "[1|1] [1|2] [1|3] [1|4] \n",
            "[2|2] [2|3] [2|4] \n",
            "[3|3] [3|4] \n",
            "[4|4] \n"
          ],
          "name": "stdout"
        }
      ]
    },
    {
      "cell_type": "markdown",
      "metadata": {
        "id": "juz0XofIhmNT"
      },
      "source": [
        "**Break statement**"
      ]
    },
    {
      "cell_type": "code",
      "metadata": {
        "id": "6FbGZ0UuhrVs",
        "outputId": "acd5649d-77b0-4629-b148-3c4d79aeef97",
        "colab": {
          "base_uri": "https://localhost:8080/",
          "height": 51
        }
      },
      "source": [
        "n=int(input(\"Enter the number: \"))\n",
        "for number in range(n):\n",
        "  if  number==5:\n",
        "    break\n",
        "  print(number, end=\" \")"
      ],
      "execution_count": 38,
      "outputs": [
        {
          "output_type": "stream",
          "text": [
            "Enter the number: 2\n",
            "0 1 "
          ],
          "name": "stdout"
        }
      ]
    },
    {
      "cell_type": "markdown",
      "metadata": {
        "id": "1BUXM6zhh0qD"
      },
      "source": [
        "**Continue statement**"
      ]
    },
    {
      "cell_type": "code",
      "metadata": {
        "id": "dJaS4Xyhh4kE",
        "outputId": "2eedd813-5c96-49b7-f992-f2aa6d9b2a67",
        "colab": {
          "base_uri": "https://localhost:8080/",
          "height": 51
        }
      },
      "source": [
        "n=int(input(\"Enter the range: \"))\n",
        "for number in range(n):\n",
        "  if  number==5:\n",
        "    continue\n",
        "  print(number, end=\" \")"
      ],
      "execution_count": 45,
      "outputs": [
        {
          "output_type": "stream",
          "text": [
            "Enter the range: 4\n",
            "0 1 2 3 "
          ],
          "name": "stdout"
        }
      ]
    },
    {
      "cell_type": "markdown",
      "metadata": {
        "id": "LBa4zvdBiCK0"
      },
      "source": [
        "**uri problem solve Extremely basic**"
      ]
    },
    {
      "cell_type": "code",
      "metadata": {
        "id": "oLzc2eAniE4f",
        "outputId": "2e0f393c-9afd-43fd-fc95-eb00fa02ee99",
        "colab": {
          "base_uri": "https://localhost:8080/",
          "height": 68
        }
      },
      "source": [
        "a1 = int(input())\n",
        "b2 = int(input())\n",
        "x = a1 + b2\n",
        "print(\"X = %i\"% x)\n"
      ],
      "execution_count": 40,
      "outputs": [
        {
          "output_type": "stream",
          "text": [
            "2\n",
            "3\n",
            "X = 5\n"
          ],
          "name": "stdout"
        }
      ]
    },
    {
      "cell_type": "markdown",
      "metadata": {
        "id": "C7Yf3Id1iWen"
      },
      "source": [
        "**uri problem Area of circle**"
      ]
    },
    {
      "cell_type": "code",
      "metadata": {
        "id": "J4rFrHnMiYdu",
        "outputId": "7a2a796c-019e-4a43-ab67-b6d34219ce5d",
        "colab": {
          "base_uri": "https://localhost:8080/",
          "height": 51
        }
      },
      "source": [
        "raio=float(input())\n",
        "\n",
        "area=(raio*raio)*3.1416\n",
        "print(\"A=%0.4f\"%area)"
      ],
      "execution_count": 41,
      "outputs": [
        {
          "output_type": "stream",
          "text": [
            "4\n",
            "A=50.2656\n"
          ],
          "name": "stdout"
        }
      ]
    },
    {
      "cell_type": "markdown",
      "metadata": {
        "id": "ZdPeSEIgif6O"
      },
      "source": [
        "**uri problem solveDifference**"
      ]
    },
    {
      "cell_type": "code",
      "metadata": {
        "id": "HlNhOepuihbx",
        "outputId": "d2efd068-0963-484e-a660-873c1e651d7c",
        "colab": {
          "base_uri": "https://localhost:8080/",
          "height": 102
        }
      },
      "source": [
        "a1= int(input())\n",
        "a2= int(input())\n",
        "a3= int(input())\n",
        "a4= int(input())\n",
        "\n",
        "difference=((a1 * a2) - (a3 * a4))\n",
        "\n",
        "print(\"DIFERENCA = %d\" %difference)"
      ],
      "execution_count": 43,
      "outputs": [
        {
          "output_type": "stream",
          "text": [
            "2\n",
            "2\n",
            "2\n",
            "2\n",
            "DIFERENCA = 0\n"
          ],
          "name": "stdout"
        }
      ]
    },
    {
      "cell_type": "markdown",
      "metadata": {
        "id": "ZpJwF_SOi04S"
      },
      "source": [
        "**Age in Days uri problem solve**"
      ]
    },
    {
      "cell_type": "code",
      "metadata": {
        "id": "XZ7MD28oi3WP",
        "outputId": "e70b0c4f-4a9d-49c5-bab0-d3d4643b7fd2",
        "colab": {
          "base_uri": "https://localhost:8080/",
          "height": 85
        }
      },
      "source": [
        "n= int(input())\n",
        "a = n / 365\n",
        "rA = n % 365\n",
        "rM = rA % 30\n",
        "m = rA / 30\n",
        "d = rM % 30\n",
        "print(\"{} ano(s)\".format(int(a)))\n",
        "print(\"{} mes(es)\".format(int(m)))\n",
        "print(\"{} dia(s)\".format(int(d)))\n"
      ],
      "execution_count": 44,
      "outputs": [
        {
          "output_type": "stream",
          "text": [
            "2\n",
            "0 ano(s)\n",
            "0 mes(es)\n",
            "2 dia(s)\n"
          ],
          "name": "stdout"
        }
      ]
    }
  ]
}